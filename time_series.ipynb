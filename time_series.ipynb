{
  "cells": [
    {
      "cell_type": "code",
      "source": [
        "from google.colab import drive\n",
        "drive.mount('/content/drive/')"
      ],
      "metadata": {
        "colab": {
          "base_uri": "https://localhost:8080/"
        },
        "id": "RSjTXMgxO3in",
        "outputId": "c18b5446-acd8-4ce5-f0fc-bac642fd0874"
      },
      "id": "RSjTXMgxO3in",
      "execution_count": 4,
      "outputs": [
        {
          "output_type": "stream",
          "name": "stdout",
          "text": [
            "Mounted at /content/drive/\n"
          ]
        }
      ]
    },
    {
      "cell_type": "code",
      "execution_count": 5,
      "id": "4ab2c215",
      "metadata": {
        "scrolled": true,
        "colab": {
          "base_uri": "https://localhost:8080/",
          "height": 423
        },
        "id": "4ab2c215",
        "outputId": "e584c42e-cff0-4459-f1c2-98a2d187ac93"
      },
      "outputs": [
        {
          "output_type": "execute_result",
          "data": {
            "text/plain": [
              "        Timestamp  Open  High   Low  Close  Volume_(BTC)  Volume_(Currency)  \\\n",
              "0      1325317920  4.39  4.39  4.39   4.39      0.455581           2.000000   \n",
              "1      1325317980  4.39  4.39  4.39   4.39      0.455581           2.000000   \n",
              "2      1325318040  4.39  4.39  4.39   4.39      0.455581           2.000000   \n",
              "3      1325318100  4.39  4.39  4.39   4.39      0.455581           2.000000   \n",
              "4      1325318160  4.39  4.39  4.39   4.39      0.455581           2.000000   \n",
              "...           ...   ...   ...   ...    ...           ...                ...   \n",
              "14995  1326217620  6.55  6.55  6.55   6.55      1.531394          10.030628   \n",
              "14996  1326217680  6.55  6.55  6.55   6.55      1.531394          10.030628   \n",
              "14997  1326217740  6.55  6.55  6.55   6.55      1.531394          10.030628   \n",
              "14998  1326217800  6.55  6.55  6.55   6.55      1.531394          10.030628   \n",
              "14999  1326217860  6.55  6.55  6.55   6.55      1.531394          10.030628   \n",
              "\n",
              "       Weighted_Price  \n",
              "0                4.39  \n",
              "1                4.39  \n",
              "2                4.39  \n",
              "3                4.39  \n",
              "4                4.39  \n",
              "...               ...  \n",
              "14995            6.55  \n",
              "14996            6.55  \n",
              "14997            6.55  \n",
              "14998            6.55  \n",
              "14999            6.55  \n",
              "\n",
              "[15000 rows x 8 columns]"
            ],
            "text/html": [
              "\n",
              "  <div id=\"df-7b243b97-80d1-4c8e-ae84-7d54e6f127b1\">\n",
              "    <div class=\"colab-df-container\">\n",
              "      <div>\n",
              "<style scoped>\n",
              "    .dataframe tbody tr th:only-of-type {\n",
              "        vertical-align: middle;\n",
              "    }\n",
              "\n",
              "    .dataframe tbody tr th {\n",
              "        vertical-align: top;\n",
              "    }\n",
              "\n",
              "    .dataframe thead th {\n",
              "        text-align: right;\n",
              "    }\n",
              "</style>\n",
              "<table border=\"1\" class=\"dataframe\">\n",
              "  <thead>\n",
              "    <tr style=\"text-align: right;\">\n",
              "      <th></th>\n",
              "      <th>Timestamp</th>\n",
              "      <th>Open</th>\n",
              "      <th>High</th>\n",
              "      <th>Low</th>\n",
              "      <th>Close</th>\n",
              "      <th>Volume_(BTC)</th>\n",
              "      <th>Volume_(Currency)</th>\n",
              "      <th>Weighted_Price</th>\n",
              "    </tr>\n",
              "  </thead>\n",
              "  <tbody>\n",
              "    <tr>\n",
              "      <th>0</th>\n",
              "      <td>1325317920</td>\n",
              "      <td>4.39</td>\n",
              "      <td>4.39</td>\n",
              "      <td>4.39</td>\n",
              "      <td>4.39</td>\n",
              "      <td>0.455581</td>\n",
              "      <td>2.000000</td>\n",
              "      <td>4.39</td>\n",
              "    </tr>\n",
              "    <tr>\n",
              "      <th>1</th>\n",
              "      <td>1325317980</td>\n",
              "      <td>4.39</td>\n",
              "      <td>4.39</td>\n",
              "      <td>4.39</td>\n",
              "      <td>4.39</td>\n",
              "      <td>0.455581</td>\n",
              "      <td>2.000000</td>\n",
              "      <td>4.39</td>\n",
              "    </tr>\n",
              "    <tr>\n",
              "      <th>2</th>\n",
              "      <td>1325318040</td>\n",
              "      <td>4.39</td>\n",
              "      <td>4.39</td>\n",
              "      <td>4.39</td>\n",
              "      <td>4.39</td>\n",
              "      <td>0.455581</td>\n",
              "      <td>2.000000</td>\n",
              "      <td>4.39</td>\n",
              "    </tr>\n",
              "    <tr>\n",
              "      <th>3</th>\n",
              "      <td>1325318100</td>\n",
              "      <td>4.39</td>\n",
              "      <td>4.39</td>\n",
              "      <td>4.39</td>\n",
              "      <td>4.39</td>\n",
              "      <td>0.455581</td>\n",
              "      <td>2.000000</td>\n",
              "      <td>4.39</td>\n",
              "    </tr>\n",
              "    <tr>\n",
              "      <th>4</th>\n",
              "      <td>1325318160</td>\n",
              "      <td>4.39</td>\n",
              "      <td>4.39</td>\n",
              "      <td>4.39</td>\n",
              "      <td>4.39</td>\n",
              "      <td>0.455581</td>\n",
              "      <td>2.000000</td>\n",
              "      <td>4.39</td>\n",
              "    </tr>\n",
              "    <tr>\n",
              "      <th>...</th>\n",
              "      <td>...</td>\n",
              "      <td>...</td>\n",
              "      <td>...</td>\n",
              "      <td>...</td>\n",
              "      <td>...</td>\n",
              "      <td>...</td>\n",
              "      <td>...</td>\n",
              "      <td>...</td>\n",
              "    </tr>\n",
              "    <tr>\n",
              "      <th>14995</th>\n",
              "      <td>1326217620</td>\n",
              "      <td>6.55</td>\n",
              "      <td>6.55</td>\n",
              "      <td>6.55</td>\n",
              "      <td>6.55</td>\n",
              "      <td>1.531394</td>\n",
              "      <td>10.030628</td>\n",
              "      <td>6.55</td>\n",
              "    </tr>\n",
              "    <tr>\n",
              "      <th>14996</th>\n",
              "      <td>1326217680</td>\n",
              "      <td>6.55</td>\n",
              "      <td>6.55</td>\n",
              "      <td>6.55</td>\n",
              "      <td>6.55</td>\n",
              "      <td>1.531394</td>\n",
              "      <td>10.030628</td>\n",
              "      <td>6.55</td>\n",
              "    </tr>\n",
              "    <tr>\n",
              "      <th>14997</th>\n",
              "      <td>1326217740</td>\n",
              "      <td>6.55</td>\n",
              "      <td>6.55</td>\n",
              "      <td>6.55</td>\n",
              "      <td>6.55</td>\n",
              "      <td>1.531394</td>\n",
              "      <td>10.030628</td>\n",
              "      <td>6.55</td>\n",
              "    </tr>\n",
              "    <tr>\n",
              "      <th>14998</th>\n",
              "      <td>1326217800</td>\n",
              "      <td>6.55</td>\n",
              "      <td>6.55</td>\n",
              "      <td>6.55</td>\n",
              "      <td>6.55</td>\n",
              "      <td>1.531394</td>\n",
              "      <td>10.030628</td>\n",
              "      <td>6.55</td>\n",
              "    </tr>\n",
              "    <tr>\n",
              "      <th>14999</th>\n",
              "      <td>1326217860</td>\n",
              "      <td>6.55</td>\n",
              "      <td>6.55</td>\n",
              "      <td>6.55</td>\n",
              "      <td>6.55</td>\n",
              "      <td>1.531394</td>\n",
              "      <td>10.030628</td>\n",
              "      <td>6.55</td>\n",
              "    </tr>\n",
              "  </tbody>\n",
              "</table>\n",
              "<p>15000 rows × 8 columns</p>\n",
              "</div>\n",
              "      <button class=\"colab-df-convert\" onclick=\"convertToInteractive('df-7b243b97-80d1-4c8e-ae84-7d54e6f127b1')\"\n",
              "              title=\"Convert this dataframe to an interactive table.\"\n",
              "              style=\"display:none;\">\n",
              "        \n",
              "  <svg xmlns=\"http://www.w3.org/2000/svg\" height=\"24px\"viewBox=\"0 0 24 24\"\n",
              "       width=\"24px\">\n",
              "    <path d=\"M0 0h24v24H0V0z\" fill=\"none\"/>\n",
              "    <path d=\"M18.56 5.44l.94 2.06.94-2.06 2.06-.94-2.06-.94-.94-2.06-.94 2.06-2.06.94zm-11 1L8.5 8.5l.94-2.06 2.06-.94-2.06-.94L8.5 2.5l-.94 2.06-2.06.94zm10 10l.94 2.06.94-2.06 2.06-.94-2.06-.94-.94-2.06-.94 2.06-2.06.94z\"/><path d=\"M17.41 7.96l-1.37-1.37c-.4-.4-.92-.59-1.43-.59-.52 0-1.04.2-1.43.59L10.3 9.45l-7.72 7.72c-.78.78-.78 2.05 0 2.83L4 21.41c.39.39.9.59 1.41.59.51 0 1.02-.2 1.41-.59l7.78-7.78 2.81-2.81c.8-.78.8-2.07 0-2.86zM5.41 20L4 18.59l7.72-7.72 1.47 1.35L5.41 20z\"/>\n",
              "  </svg>\n",
              "      </button>\n",
              "      \n",
              "  <style>\n",
              "    .colab-df-container {\n",
              "      display:flex;\n",
              "      flex-wrap:wrap;\n",
              "      gap: 12px;\n",
              "    }\n",
              "\n",
              "    .colab-df-convert {\n",
              "      background-color: #E8F0FE;\n",
              "      border: none;\n",
              "      border-radius: 50%;\n",
              "      cursor: pointer;\n",
              "      display: none;\n",
              "      fill: #1967D2;\n",
              "      height: 32px;\n",
              "      padding: 0 0 0 0;\n",
              "      width: 32px;\n",
              "    }\n",
              "\n",
              "    .colab-df-convert:hover {\n",
              "      background-color: #E2EBFA;\n",
              "      box-shadow: 0px 1px 2px rgba(60, 64, 67, 0.3), 0px 1px 3px 1px rgba(60, 64, 67, 0.15);\n",
              "      fill: #174EA6;\n",
              "    }\n",
              "\n",
              "    [theme=dark] .colab-df-convert {\n",
              "      background-color: #3B4455;\n",
              "      fill: #D2E3FC;\n",
              "    }\n",
              "\n",
              "    [theme=dark] .colab-df-convert:hover {\n",
              "      background-color: #434B5C;\n",
              "      box-shadow: 0px 1px 3px 1px rgba(0, 0, 0, 0.15);\n",
              "      filter: drop-shadow(0px 1px 2px rgba(0, 0, 0, 0.3));\n",
              "      fill: #FFFFFF;\n",
              "    }\n",
              "  </style>\n",
              "\n",
              "      <script>\n",
              "        const buttonEl =\n",
              "          document.querySelector('#df-7b243b97-80d1-4c8e-ae84-7d54e6f127b1 button.colab-df-convert');\n",
              "        buttonEl.style.display =\n",
              "          google.colab.kernel.accessAllowed ? 'block' : 'none';\n",
              "\n",
              "        async function convertToInteractive(key) {\n",
              "          const element = document.querySelector('#df-7b243b97-80d1-4c8e-ae84-7d54e6f127b1');\n",
              "          const dataTable =\n",
              "            await google.colab.kernel.invokeFunction('convertToInteractive',\n",
              "                                                     [key], {});\n",
              "          if (!dataTable) return;\n",
              "\n",
              "          const docLinkHtml = 'Like what you see? Visit the ' +\n",
              "            '<a target=\"_blank\" href=https://colab.research.google.com/notebooks/data_table.ipynb>data table notebook</a>'\n",
              "            + ' to learn more about interactive tables.';\n",
              "          element.innerHTML = '';\n",
              "          dataTable['output_type'] = 'display_data';\n",
              "          await google.colab.output.renderOutput(dataTable, element);\n",
              "          const docLink = document.createElement('div');\n",
              "          docLink.innerHTML = docLinkHtml;\n",
              "          element.appendChild(docLink);\n",
              "        }\n",
              "      </script>\n",
              "    </div>\n",
              "  </div>\n",
              "  "
            ]
          },
          "metadata": {},
          "execution_count": 5
        }
      ],
      "source": [
        "import pandas as pd\n",
        "from statsmodels.tsa.arima.model import ARIMA\n",
        "\n",
        "# Load cryptocurrency data from CSV file\n",
        "crypto_data = pd.read_csv('/content/drive/MyDrive/time_series/bitstampUSD_1-min_data_2012-01-01_to_2017-10-20.csv')\n",
        "\n",
        "crypto_data =crypto_data[:15000]\n",
        "crypto_data"
      ]
    },
    {
      "cell_type": "code",
      "source": [
        "import datetime\n",
        "crypto_data[\"Timestamp\"] = pd.to_datetime(crypto_data[\"Timestamp\"], unit='s')\n",
        "crypto_data = crypto_data"
      ],
      "metadata": {
        "id": "CUvB2JNsrIsQ"
      },
      "id": "CUvB2JNsrIsQ",
      "execution_count": 6,
      "outputs": []
    },
    {
      "cell_type": "code",
      "execution_count": 7,
      "id": "497b5c13",
      "metadata": {
        "colab": {
          "base_uri": "https://localhost:8080/"
        },
        "id": "497b5c13",
        "outputId": "b47a91ab-d6d9-4bba-d21a-26edfe9a078d"
      },
      "outputs": [
        {
          "output_type": "stream",
          "name": "stdout",
          "text": [
            "<class 'pandas.core.frame.DataFrame'>\n",
            "RangeIndex: 15000 entries, 0 to 14999\n",
            "Data columns (total 8 columns):\n",
            " #   Column             Non-Null Count  Dtype         \n",
            "---  ------             --------------  -----         \n",
            " 0   Timestamp          15000 non-null  datetime64[ns]\n",
            " 1   Open               15000 non-null  float64       \n",
            " 2   High               15000 non-null  float64       \n",
            " 3   Low                15000 non-null  float64       \n",
            " 4   Close              15000 non-null  float64       \n",
            " 5   Volume_(BTC)       15000 non-null  float64       \n",
            " 6   Volume_(Currency)  15000 non-null  float64       \n",
            " 7   Weighted_Price     15000 non-null  float64       \n",
            "dtypes: datetime64[ns](1), float64(7)\n",
            "memory usage: 937.6 KB\n"
          ]
        }
      ],
      "source": [
        "crypto_data.info()"
      ]
    },
    {
      "cell_type": "code",
      "execution_count": 8,
      "id": "c92e6214",
      "metadata": {
        "colab": {
          "base_uri": "https://localhost:8080/"
        },
        "id": "c92e6214",
        "outputId": "7976feba-1c3e-4294-ce1c-b2b6b01e23a1"
      },
      "outputs": [
        {
          "output_type": "execute_result",
          "data": {
            "text/plain": [
              "Timestamp            0\n",
              "Open                 0\n",
              "High                 0\n",
              "Low                  0\n",
              "Close                0\n",
              "Volume_(BTC)         0\n",
              "Volume_(Currency)    0\n",
              "Weighted_Price       0\n",
              "dtype: int64"
            ]
          },
          "metadata": {},
          "execution_count": 8
        }
      ],
      "source": [
        "crypto_data.isnull().sum()"
      ]
    },
    {
      "cell_type": "code",
      "execution_count": 9,
      "id": "b7727ef2",
      "metadata": {
        "colab": {
          "base_uri": "https://localhost:8080/"
        },
        "id": "b7727ef2",
        "outputId": "92152a4e-22b3-4eb7-acae-49e7c6e9eb51"
      },
      "outputs": [
        {
          "output_type": "execute_result",
          "data": {
            "text/plain": [
              "((10500, 8), (4500, 8))"
            ]
          },
          "metadata": {},
          "execution_count": 9
        }
      ],
      "source": [
        "# Split the data into training and test sets\n",
        "train_data = crypto_data.iloc[:10500]\n",
        "test_data = crypto_data.iloc[10500:]\n",
        "train_data.shape, test_data.shape"
      ]
    },
    {
      "cell_type": "code",
      "execution_count": 19,
      "id": "e35086b4",
      "metadata": {
        "id": "e35086b4"
      },
      "outputs": [],
      "source": [
        "\n",
        "# Fit an ARIMA model to the training data\n",
        "arima_model = ARIMA(train_data['Weighted_Price'], order=(2,1,2))\n",
        "arima_fit = arima_model.fit()"
      ]
    },
    {
      "cell_type": "code",
      "execution_count": 20,
      "id": "bd08d98b",
      "metadata": {
        "colab": {
          "base_uri": "https://localhost:8080/"
        },
        "id": "bd08d98b",
        "outputId": "4a90d2b5-33cf-4677-c4e5-7cf0853b9623"
      },
      "outputs": [
        {
          "output_type": "stream",
          "name": "stdout",
          "text": [
            "ARIMA MSE: 0.49728573324827036\n"
          ]
        }
      ],
      "source": [
        "\n",
        "\n",
        "\n",
        "# Make predictions on the test data using the fitted model\n",
        "arima_preds = arima_fit.predict(start=test_data.index[0], end=test_data.index[-1])\n",
        "\n",
        "# Evaluate the model's performance using mean squared error (MSE)\n",
        "mse = ((arima_preds - test_data['Weighted_Price'])**2).mean()\n",
        "print('ARIMA MSE:', mse)"
      ]
    },
    {
      "cell_type": "markdown",
      "id": "11525c70",
      "metadata": {
        "id": "11525c70"
      },
      "source": [
        "# SARIMA"
      ]
    },
    {
      "cell_type": "code",
      "execution_count": 21,
      "id": "c4df6d38",
      "metadata": {
        "colab": {
          "base_uri": "https://localhost:8080/"
        },
        "id": "c4df6d38",
        "outputId": "ca3ae351-bb29-437a-888d-c829f3150af7"
      },
      "outputs": [
        {
          "output_type": "stream",
          "name": "stderr",
          "text": [
            "/usr/local/lib/python3.8/dist-packages/statsmodels/base/model.py:566: ConvergenceWarning: Maximum Likelihood optimization failed to converge. Check mle_retvals\n",
            "  warnings.warn(\"Maximum Likelihood optimization failed to \"\n"
          ]
        },
        {
          "output_type": "stream",
          "name": "stdout",
          "text": [
            "SARIMA MSE: 0.7598333717908106\n"
          ]
        }
      ],
      "source": [
        "from statsmodels.tsa.statespace.sarimax import SARIMAX\n",
        "\n",
        "\n",
        "# Fit a SARIMA model to the training data\n",
        "sarima_model = SARIMAX(train_data['Weighted_Price'], order=(2,1,2), seasonal_order=(1,1,1,12))\n",
        "sarima_fit = sarima_model.fit()\n",
        "\n",
        "# Make predictions on the test data using the fitted model\n",
        "sarima_preds = sarima_fit.predict(start=test_data.index[0], end=test_data.index[-1])\n",
        "\n",
        "# Evaluate the model's performance using mean squared error (MSE)\n",
        "mse = ((sarima_preds - test_data['Weighted_Price'])**2).mean()\n",
        "print('SARIMA MSE:', mse)\n"
      ]
    },
    {
      "cell_type": "markdown",
      "id": "75f59d16",
      "metadata": {
        "id": "75f59d16"
      },
      "source": [
        "# ExponentialSmoothing"
      ]
    },
    {
      "cell_type": "code",
      "execution_count": 22,
      "id": "b19c1298",
      "metadata": {
        "colab": {
          "base_uri": "https://localhost:8080/"
        },
        "id": "b19c1298",
        "outputId": "a9a83e17-a3d3-401e-f777-52dc2985bcf0"
      },
      "outputs": [
        {
          "output_type": "stream",
          "name": "stderr",
          "text": [
            "/usr/local/lib/python3.8/dist-packages/statsmodels/tsa/holtwinters/model.py:427: FutureWarning: After 0.13 initialization must be handled at model creation\n",
            "  warnings.warn(\n"
          ]
        },
        {
          "output_type": "stream",
          "name": "stdout",
          "text": [
            "Exponential Smoothing MSE: 0.2810339317028149\n"
          ]
        }
      ],
      "source": [
        "from statsmodels.tsa.holtwinters import ExponentialSmoothing\n",
        "\n",
        "# Fit an exponential smoothing model to the training data\n",
        "es_model = ExponentialSmoothing(train_data['Weighted_Price'], seasonal_periods=12, trend='add', seasonal='add')\n",
        "es_fit = es_model.fit()\n",
        "\n",
        "# Make predictions on the test data using the fitted model\n",
        "es_preds = es_fit.predict(start=test_data.index[0], end=test_data.index[-1])\n",
        "\n",
        "# Evaluate the model's performance using mean squared error (MSE)\n",
        "mse = ((es_preds - test_data['Weighted_Price'])**2).mean()\n",
        "print('Exponential Smoothing MSE:', mse)\n"
      ]
    },
    {
      "cell_type": "markdown",
      "id": "755306a4",
      "metadata": {
        "id": "755306a4"
      },
      "source": [
        "# LSTM"
      ]
    },
    {
      "cell_type": "code",
      "execution_count": 10,
      "id": "4dafe2c6",
      "metadata": {
        "colab": {
          "base_uri": "https://localhost:8080/"
        },
        "id": "4dafe2c6",
        "outputId": "7d130c81-bc7a-47a2-89fb-68fc7bdd9dac"
      },
      "outputs": [
        {
          "output_type": "stream",
          "name": "stdout",
          "text": [
            "Epoch 1/10\n",
            "10489/10489 - 39s - loss: 0.4767 - 39s/epoch - 4ms/step\n",
            "Epoch 2/10\n",
            "10489/10489 - 33s - loss: 6.8174e-04 - 33s/epoch - 3ms/step\n",
            "Epoch 3/10\n",
            "10489/10489 - 32s - loss: 4.7574e-04 - 32s/epoch - 3ms/step\n",
            "Epoch 4/10\n",
            "10489/10489 - 31s - loss: 4.4321e-04 - 31s/epoch - 3ms/step\n",
            "Epoch 5/10\n",
            "10489/10489 - 32s - loss: 3.4788e-04 - 32s/epoch - 3ms/step\n",
            "Epoch 6/10\n",
            "10489/10489 - 32s - loss: 2.6562e-04 - 32s/epoch - 3ms/step\n",
            "Epoch 7/10\n",
            "10489/10489 - 31s - loss: 2.4990e-04 - 31s/epoch - 3ms/step\n",
            "Epoch 8/10\n",
            "10489/10489 - 33s - loss: 2.3718e-04 - 33s/epoch - 3ms/step\n",
            "Epoch 9/10\n",
            "10489/10489 - 31s - loss: 2.2239e-04 - 31s/epoch - 3ms/step\n",
            "Epoch 10/10\n",
            "10489/10489 - 31s - loss: 2.2753e-04 - 31s/epoch - 3ms/step\n",
            "141/141 [==============================] - 1s 3ms/step\n"
          ]
        }
      ],
      "source": [
        "from keras.models import Sequential\n",
        "from keras.layers import LSTM, Dense\n",
        "import tensorflow as tf\n",
        "import numpy as np\n",
        "\n",
        "# Preprocess the data for use in an LSTM model\n",
        "def preprocess_lstm_data(data, look_back=1):\n",
        "    X, y = [], []\n",
        "    for i in range(len(data)-look_back-1):\n",
        "        X.append(data[i:(i+look_back), 0])\n",
        "        y.append(data[(i+look_back), 0])\n",
        "    return np.array(X), np.array(y)\n",
        "\n",
        "look_back = 10\n",
        "train_X, train_y = preprocess_lstm_data(train_data[['Weighted_Price']].values, look_back)\n",
        "test_X, test_y = preprocess_lstm_data(test_data[['Weighted_Price']].values, look_back)\n",
        "\n",
        "# Define and train an LSTM model\n",
        "model = Sequential()\n",
        "model.add(LSTM(4, input_shape=(look_back, 1)))\n",
        "model.add(Dense(1))\n",
        "model.compile(loss='mean_squared_error', optimizer='adam')\n",
        "model.fit(train_X, train_y, epochs=10, batch_size=1, verbose=2)\n",
        "\n",
        "# Make predictions on the test data using the trained model\n",
        "lstm_preds = model.predict(test_X)\n",
        "\n",
        "# Evaluate the model's performance using mean squared error (MSE)\n",
        "mse = ((lstm_preds - test_y)**2).mean()"
      ]
    },
    {
      "cell_type": "code",
      "execution_count": null,
      "id": "0289e575",
      "metadata": {
        "id": "0289e575"
      },
      "outputs": [],
      "source": [
        "from pandas.tseries.offsets import DateOffset\n",
        "# Train individual models on the training data and make predictions on the test data\n",
        "es_model = ExponentialSmoothing(train_data['Weighted_Price'], seasonal_periods=12, trend='add', seasonal='add')\n",
        "es_fit = es_model.fit()\n",
        "es_preds = es_fit.predict(start=test_data.index[0], end=test_data.index[-1])\n",
        "\n",
        "sarima_model = SARIMAX(train_data['Weighted_Price'], order=(2,1,2), seasonal_order=(1,1,1,12))\n",
        "sarima_fit = sarima_model.fit()\n",
        "sarima_start = test_data.index[0]\n"
      ]
    },
    {
      "cell_type": "code",
      "execution_count": null,
      "id": "a9e1ad7d",
      "metadata": {
        "id": "a9e1ad7d"
      },
      "outputs": [],
      "source": [
        "from sklearn.linear_model import LinearRegression\n",
        "\n",
        "look_back = 10\n",
        "train_X, train_y = preprocess_lstm_data(train_data[['Weighted_Price']].values, look_back)\n",
        "test_X, test_y = preprocess_lstm_data(test_data[['Weighted_Price']].values, look_back)\n",
        "\n",
        "lstm_model = Sequential()\n",
        "lstm_model.add(LSTM(4, input_shape=(look_back, 1)))\n",
        "lstm_model.add(Dense(1))\n",
        "lstm_model.compile(loss='mean_squared_error', optimizer='adam')\n",
        "lstm_model.fit(train_X, train_y, epochs=10, batch_size=1, verbose=2)\n",
        "lstm_preds = lstm_model.predict(test_X)\n"
      ]
    },
    {
      "cell_type": "code",
      "source": [
        "# Combine the predictions of the individual models into a single dataframe\n",
        "preds_df = pd.DataFrame({'es_preds': es_preds, 'sarima_preds': sarima_preds}, index=test_data.index)\n",
        "\n",
        "# Use the individual model predictions as features and fit a final model\n",
        "final_model = LinearRegression()\n",
        "final_model.fit(preds_df.loc[test_data.index], test_data['Weighted_Price'])\n"
      ],
      "metadata": {
        "id": "y0fE3Fwjgvho"
      },
      "id": "y0fE3Fwjgvho",
      "execution_count": null,
      "outputs": []
    },
    {
      "cell_type": "code",
      "source": [
        "# Make predictions on future data using the ensemble model\n",
        "future_data = crypto_data[2000:3000] # hypothetical future data\n",
        "future_es_preds = es_fit.forecast(steps=len(future_data))\n",
        "future_sarima_preds = sarima_fit.forecast(start=future_data.index[0], end=future_data.index[-1])\n",
        "future_lstm_preds = lstm_model.predict(preprocess_lstm_data(future_data[['price']].values, look_back)[0])\n",
        "future_preds_df = pd.DataFrame({'es_preds': future_es_preds, 'sarima_preds': future_sarima_preds, 'lstm_preds': future_lstm_preds.flatten()}, index=future_data.index)\n",
        "ensemble_preds = final_model.predict(future_preds_df)"
      ],
      "metadata": {
        "id": "XdFFxKK0ddeR"
      },
      "id": "XdFFxKK0ddeR",
      "execution_count": null,
      "outputs": []
    }
  ],
  "metadata": {
    "kernelspec": {
      "display_name": "Python 3 (ipykernel)",
      "language": "python",
      "name": "python3"
    },
    "language_info": {
      "codemirror_mode": {
        "name": "ipython",
        "version": 3
      },
      "file_extension": ".py",
      "mimetype": "text/x-python",
      "name": "python",
      "nbconvert_exporter": "python",
      "pygments_lexer": "ipython3",
      "version": "3.9.13"
    },
    "colab": {
      "provenance": []
    },
    "accelerator": "GPU",
    "gpuClass": "standard"
  },
  "nbformat": 4,
  "nbformat_minor": 5
}